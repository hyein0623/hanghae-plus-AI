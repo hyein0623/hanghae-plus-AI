{
  "nbformat": 4,
  "nbformat_minor": 0,
  "metadata": {
    "colab": {
      "provenance": [],
      "gpuType": "T4",
      "include_colab_link": true
    },
    "kernelspec": {
      "name": "python3",
      "display_name": "Python 3"
    },
    "language_info": {
      "name": "python"
    },
    "accelerator": "GPU"
  },
  "cells": [
    {
      "cell_type": "markdown",
      "metadata": {
        "id": "view-in-github",
        "colab_type": "text"
      },
      "source": [
        "<a href=\"https://colab.research.google.com/github/hyein0623/hanghae-plus-AI/blob/main/Chapter1_1_%EA%B8%B0%EB%B3%B8%EA%B3%BC%EC%A0%9C.ipynb\" target=\"_parent\"><img src=\"https://colab.research.google.com/assets/colab-badge.svg\" alt=\"Open In Colab\"/></a>"
      ]
    },
    {
      "cell_type": "markdown",
      "source": [
        "# MNIST 실습\n",
        "\n",
        "이번에는 28x28 흑백 손글씨 이미지를 보고 0~9 사이의 숫자 중 어떤 숫자를 쓴 것인지 예측하는 문제를 실습합니다.\n",
        "이번 실습에서는 GPU를 활용할 것이기 때문에, 이전 챕터에서 Colab에서 GPU를 설정하는 방법을 따라해주시길 바랍니다.\n",
        "\n",
        "GPU를 설정했으면 library들을 import합니다."
      ],
      "metadata": {
        "id": "OPJenlrhihrh"
      }
    },
    {
      "cell_type": "code",
      "execution_count": null,
      "metadata": {
        "id": "6lXVfXoDtoQh"
      },
      "outputs": [],
      "source": [
        "import torch\n",
        "import torchvision\n",
        "import torchvision.transforms as transforms\n",
        "import numpy as np\n"
      ]
    },
    {
      "cell_type": "markdown",
      "source": [
        "다음은 dataset을 준비합니다. 손글씨 dataset은 MNIST라는 유명한 dataset이 있습니다. 이 dataset은 `torchvision`에서 제공하고 있으며, 다음과 같이 다운로드 받을 수 있습니다."
      ],
      "metadata": {
        "id": "pF-1zQvmiult"
      }
    },
    {
      "cell_type": "code",
      "source": [
        "transform = transforms.ToTensor()\n",
        "\n",
        "trainset = torchvision.datasets.MNIST(\n",
        "    root='./data',\n",
        "    train=True,\n",
        "    download=True,\n",
        "    transform=transform\n",
        ")"
      ],
      "metadata": {
        "id": "KAYlqPaRt6ti",
        "colab": {
          "base_uri": "https://localhost:8080/"
        },
        "outputId": "53d4fc74-cf80-49e4-dabf-beb9672ec7bd"
      },
      "execution_count": null,
      "outputs": [
        {
          "output_type": "stream",
          "name": "stdout",
          "text": [
            "Downloading http://yann.lecun.com/exdb/mnist/train-images-idx3-ubyte.gz\n",
            "Failed to download (trying next):\n",
            "HTTP Error 403: Forbidden\n",
            "\n",
            "Downloading https://ossci-datasets.s3.amazonaws.com/mnist/train-images-idx3-ubyte.gz\n",
            "Downloading https://ossci-datasets.s3.amazonaws.com/mnist/train-images-idx3-ubyte.gz to ./data/MNIST/raw/train-images-idx3-ubyte.gz\n"
          ]
        },
        {
          "output_type": "stream",
          "name": "stderr",
          "text": [
            "100%|██████████| 9912422/9912422 [00:00<00:00, 11570986.40it/s]\n"
          ]
        },
        {
          "output_type": "stream",
          "name": "stdout",
          "text": [
            "Extracting ./data/MNIST/raw/train-images-idx3-ubyte.gz to ./data/MNIST/raw\n",
            "\n",
            "Downloading http://yann.lecun.com/exdb/mnist/train-labels-idx1-ubyte.gz\n",
            "Failed to download (trying next):\n",
            "HTTP Error 403: Forbidden\n",
            "\n",
            "Downloading https://ossci-datasets.s3.amazonaws.com/mnist/train-labels-idx1-ubyte.gz\n",
            "Downloading https://ossci-datasets.s3.amazonaws.com/mnist/train-labels-idx1-ubyte.gz to ./data/MNIST/raw/train-labels-idx1-ubyte.gz\n"
          ]
        },
        {
          "output_type": "stream",
          "name": "stderr",
          "text": [
            "100%|██████████| 28881/28881 [00:00<00:00, 347077.77it/s]\n"
          ]
        },
        {
          "output_type": "stream",
          "name": "stdout",
          "text": [
            "Extracting ./data/MNIST/raw/train-labels-idx1-ubyte.gz to ./data/MNIST/raw\n",
            "\n",
            "Downloading http://yann.lecun.com/exdb/mnist/t10k-images-idx3-ubyte.gz\n",
            "Failed to download (trying next):\n",
            "HTTP Error 403: Forbidden\n",
            "\n",
            "Downloading https://ossci-datasets.s3.amazonaws.com/mnist/t10k-images-idx3-ubyte.gz\n",
            "Downloading https://ossci-datasets.s3.amazonaws.com/mnist/t10k-images-idx3-ubyte.gz to ./data/MNIST/raw/t10k-images-idx3-ubyte.gz\n"
          ]
        },
        {
          "output_type": "stream",
          "name": "stderr",
          "text": [
            "100%|██████████| 1648877/1648877 [00:00<00:00, 3180561.02it/s]\n"
          ]
        },
        {
          "output_type": "stream",
          "name": "stdout",
          "text": [
            "Extracting ./data/MNIST/raw/t10k-images-idx3-ubyte.gz to ./data/MNIST/raw\n",
            "\n",
            "Downloading http://yann.lecun.com/exdb/mnist/t10k-labels-idx1-ubyte.gz\n",
            "Failed to download (trying next):\n",
            "HTTP Error 403: Forbidden\n",
            "\n",
            "Downloading https://ossci-datasets.s3.amazonaws.com/mnist/t10k-labels-idx1-ubyte.gz\n",
            "Downloading https://ossci-datasets.s3.amazonaws.com/mnist/t10k-labels-idx1-ubyte.gz to ./data/MNIST/raw/t10k-labels-idx1-ubyte.gz\n"
          ]
        },
        {
          "output_type": "stream",
          "name": "stderr",
          "text": [
            "100%|██████████| 4542/4542 [00:00<00:00, 10501945.30it/s]"
          ]
        },
        {
          "output_type": "stream",
          "name": "stdout",
          "text": [
            "Extracting ./data/MNIST/raw/t10k-labels-idx1-ubyte.gz to ./data/MNIST/raw\n",
            "\n"
          ]
        },
        {
          "output_type": "stream",
          "name": "stderr",
          "text": [
            "\n"
          ]
        }
      ]
    },
    {
      "cell_type": "markdown",
      "source": [
        "## 테스트 데이터 만들기"
      ],
      "metadata": {
        "id": "FeBUU7C6udYY"
      }
    },
    {
      "cell_type": "code",
      "source": [
        "transform2 = transforms.ToTensor()\n",
        "testset = torchvision.datasets.MNIST(\n",
        "    root='./data',\n",
        "    train=False,\n",
        "    download=True,\n",
        "    transform=transform2\n",
        ")"
      ],
      "metadata": {
        "id": "YySF2Fw9ubaw"
      },
      "execution_count": null,
      "outputs": []
    },
    {
      "cell_type": "markdown",
      "source": [
        "MNIST는 손글씨 사진과 어떤 숫자를 의미하는지에 대한 label의 pair들로 구성되어있습니다.\n",
        "이 때, 우리는 PyTorch model을 사용할 것이기 때문에 손글씨 사진들을 모두 tensor로 변환해야합니다.\n",
        "이러한 부가적인 변환들은 `torchvision.transforms`에서 제공하고 있으며, `torchvision.datasets.MNIST`에서 `transform` 인자로 받을 수 있습니다.\n",
        "우리는 단순히 사진을 tensor로 바꾸고 싶기 때문에 `transforms.ToTensor()` transformation을 넘겨줍니다.\n",
        "\n",
        "다음은 전체 data의 개수와 첫 번째 data를 출력한 결과입니다."
      ],
      "metadata": {
        "id": "p-GqH7_ZjVMs"
      }
    },
    {
      "cell_type": "code",
      "source": [
        "from matplotlib import pyplot as plt\n",
        "\n",
        "\n",
        "print(len(trainset))\n",
        "print(trainset[0][0].shape, trainset[0][1])\n",
        "plt.imshow(trainset[0][0][0], cmap='gray')"
      ],
      "metadata": {
        "colab": {
          "base_uri": "https://localhost:8080/",
          "height": 485
        },
        "id": "Zsp3sHmojyhT",
        "outputId": "3efc75fd-c2a3-4edd-dfac-e51c8d2dd622"
      },
      "execution_count": null,
      "outputs": [
        {
          "output_type": "stream",
          "name": "stdout",
          "text": [
            "60000\n",
            "torch.Size([1, 28, 28]) 5\n"
          ]
        },
        {
          "output_type": "execute_result",
          "data": {
            "text/plain": [
              "<matplotlib.image.AxesImage at 0x7f82a3fcdf00>"
            ]
          },
          "metadata": {},
          "execution_count": 4
        },
        {
          "output_type": "display_data",
          "data": {
            "text/plain": [
              "<Figure size 640x480 with 1 Axes>"
            ],
            "image/png": "[encoded data removed]"
          },
          "metadata": {}
        }
      ]
    },
    {
      "cell_type": "markdown",
      "source": [
        "첫 번째 출력결과를 통해 우리는 6만장의 손글씨 data가 있는 것을 알 수 있습니다.\n",
        "그리고 두 번째 출력결과를 통해 첫 번째 data의 shape은 (1, 28, 28)이고 5라는 숫자를 쓴 사진이라는 것을 알 수 있습니다.\n",
        "마지막으로 `plt.imshow`를 통해 visualize 했을 때 5라는 숫자가 나오는 것을 알 수 있습니다.\n",
        "\n",
        "다음은 SGD를 위해 dataset을 여러 개의 batch로 나누는 과정을 PyTorch로 구현한 모습입니다."
      ],
      "metadata": {
        "id": "udm8wDBsi301"
      }
    },
    {
      "cell_type": "code",
      "source": [
        "batch_size = 256\n",
        "\n",
        "trainloader = torch.utils.data.DataLoader(\n",
        "    trainset,\n",
        "    batch_size=batch_size,\n",
        "    shuffle=True\n",
        ")\n",
        "\n",
        "testloader = torch.utils.data.DataLoader(\n",
        "    testset,\n",
        "    batch_size = batch_size,\n",
        "    shuffle = False\n",
        ")"
      ],
      "metadata": {
        "id": "UxKu3kA2i5WH"
      },
      "execution_count": null,
      "outputs": []
    },
    {
      "cell_type": "markdown",
      "source": [
        "PyTorch에서는 `DataLoader`가 dataset을 인자로 받아 batch로 나눠줍니다.\n",
        "부가적으로 `batch_size`라는 인자를 통해 batch size를 받고 있으며, `shuffle`이라는 인자를 통해 data들을 섞을지 결정해줍니다.\n",
        "우리는 SGD가 완전 랜덤으로 batch를 구성해야 잘 동작하는 것을 알고 있기 때문에 `shuffle`에 `True`를 넘겨주고 있습니다.\n",
        "\n",
        "다음은 첫 번째 batch를 출력한 모습입니다."
      ],
      "metadata": {
        "id": "z4Qyrm4WlzWt"
      }
    },
    {
      "cell_type": "code",
      "source": [
        "dataiter = iter(trainloader)\n",
        "images, labels = next(dataiter)\n",
        "print(images.shape, labels.shape)"
      ],
      "metadata": {
        "colab": {
          "base_uri": "https://localhost:8080/"
        },
        "id": "_Hd7XxyAvVNz",
        "outputId": "08115fe3-6a36-4088-dcfa-3cddb7ba57e0"
      },
      "execution_count": null,
      "outputs": [
        {
          "output_type": "stream",
          "name": "stdout",
          "text": [
            "torch.Size([256, 1, 28, 28]) torch.Size([256])\n"
          ]
        }
      ]
    },
    {
      "cell_type": "markdown",
      "source": [
        "`images`는 첫 번째 batch의 image들이고 `labels`는 첫 번째 batch의 label들입니다.\n",
        "위에서 batch size를 64로 설정했기 때문에 총 64개의 image와 label들이 있어야 합니다.\n",
        "실제 shape 출력 결과를 보면 그렇다는 것을 알 수 있습니다.\n",
        "\n",
        "다음은 (n, 1, 28, 28) shape의 image를 입력받아 0~9 사이의 정수 하나를 출력하는 3-layer MLP를 구현합니다."
      ],
      "metadata": {
        "id": "h0ZY5mDimRUK"
      }
    },
    {
      "cell_type": "code",
      "source": [
        "from torch import nn\n",
        "\n",
        "\n",
        "class Model(nn.Module):\n",
        "  def __init__(self, input_dim, n_dim):\n",
        "    super().__init__()\n",
        "\n",
        "    self.layer1 = nn.Linear(input_dim, n_dim)\n",
        "    self.layer2 = nn.Linear(n_dim, n_dim)\n",
        "    self.layer3 = nn.Linear(n_dim, 10)\n",
        "\n",
        "    self.act = nn.ReLU()\n",
        "\n",
        "  def forward(self, x):\n",
        "    x = torch.flatten(x, start_dim=1)\n",
        "    x = self.act(self.layer1(x))\n",
        "    x = self.act(self.layer2(x))\n",
        "    x = self.layer3(x)\n",
        "\n",
        "    return x\n",
        "\n",
        "\n",
        "model = Model(28 * 28, 1024)"
      ],
      "metadata": {
        "id": "OLOA-ZGTuVVG"
      },
      "execution_count": null,
      "outputs": []
    },
    {
      "cell_type": "markdown",
      "source": [
        "이전의 2-layer MLP와 유사한 형태임을 알 수 있습니다.\n",
        "여기서 특이사항은 `forward`의 첫 번째 줄에 `torch.flatten`을 사용한다는 것입니다.\n",
        "`Linear`는 이전에도 봤다시피 (n, d) 형태의 shape을 입력받습니다.\n",
        "이미지는 (n, 1, 28, 28)이기 때문에 (n, 1 * 28 * 28)로 shape을 변환해야 선형 함수에 입력으로 주어줄 수 있게 됩니다.\n",
        "이 역할을 수행하는 것이 바로 `torch.flatten`입니다.\n",
        "우리는 첫 번째 shape인 n을 보존할 것이기 때문에 flatten할 차원은 `start_dim=1`로 넘겨주게 됩니다.\n",
        "\n",
        "다음은 gradient descent를 수행해줄 optimizer를 구현하는 모습입니다."
      ],
      "metadata": {
        "id": "tag1rNcwmnAr"
      }
    },
    {
      "cell_type": "code",
      "source": [
        "from torch.optim import SGD\n",
        "\n",
        "lr = 0.001\n",
        "model = model.to('cuda')\n",
        "\n",
        "optimizer = SGD(model.parameters(), lr=lr)\n",
        "\n",
        "# loss function 생성\n",
        "criterion = torch.nn.CrossEntropyLoss()"
      ],
      "metadata": {
        "id": "ypS0TcOlvBhZ"
      },
      "execution_count": null,
      "outputs": []
    },
    {
      "cell_type": "markdown",
      "source": [
        "이전 코드와 거의 똑같습니다. 다른 점은 `model.to('cuda')` 코드를 통해 우리가 구현한 model을 GPU로 옮긴 것입니다.\n",
        "MNIST 부터는 모델과 data가 커지면서 훨씬 많은 행렬 연산이 이루어지기 때문에 GPU를 활용하는 것이 빠릅니다.\n",
        "\n",
        "다음은 model을 MNIST에 학습하는 코드입니다."
      ],
      "metadata": {
        "id": "5PooeOKMnRfZ"
      }
    },
    {
      "cell_type": "markdown",
      "source": [
        "## 정확도 평가"
      ],
      "metadata": {
        "id": "RJCKyVqiFMnf"
      }
    },
    {
      "cell_type": "code",
      "source": [
        "def accuracy(model, dataloader):\n",
        "  cnt = 0\n",
        "  acc = 0\n",
        "\n",
        "  for data in dataloader:\n",
        "    inputs, labels = data\n",
        "    inputs, labels = inputs.to('cuda'), labels.to('cuda')\n",
        "\n",
        "    preds = model(inputs)\n",
        "    preds = torch.argmax(preds, dim=-1)\n",
        "\n",
        "    cnt += labels.shape[0]\n",
        "    acc += (labels == preds).sum().item()\n",
        "\n",
        "  return acc / cnt"
      ],
      "metadata": {
        "id": "nsXhbHBPFMI_"
      },
      "execution_count": null,
      "outputs": []
    },
    {
      "cell_type": "markdown",
      "source": [
        "## plot 그래프 그리기\n"
      ],
      "metadata": {
        "id": "0w8_w7P0NmiL"
      }
    },
    {
      "cell_type": "code",
      "source": [
        "def plot_acc(train_accs, test_accs, label1='train', label2='test'):\n",
        "  x = np.arange(len(train_accs))\n",
        "\n",
        "  plt.plot(x, train_accs, label=label1)\n",
        "  plt.plot(x, test_accs, label=label2)\n",
        "  plt.legend()\n",
        "  plt.show()"
      ],
      "metadata": {
        "id": "CDCQdYOJNqOz"
      },
      "execution_count": null,
      "outputs": []
    },
    {
      "cell_type": "markdown",
      "source": [
        "## 모델 학습"
      ],
      "metadata": {
        "id": "SsBx1IdWNuJr"
      }
    },
    {
      "cell_type": "code",
      "source": [
        "n_epochs = 300\n",
        "TrainAccuracyList =[]\n",
        "TestAccuracyList = []\n",
        "\n",
        "for epoch in range(n_epochs):\n",
        "  total_loss = 0.\n",
        "  for data in trainloader:\n",
        "    model.zero_grad()\n",
        "    inputs, labels = data\n",
        "    inputs, labels = inputs.to('cuda'), labels.to('cuda')\n",
        "\n",
        "    preds = model(inputs)\n",
        "    loss =criterion(preds, labels)\n",
        "    loss.backward()\n",
        "    optimizer.step()\n",
        "\n",
        "    total_loss += loss.item()\n",
        "  # 매 epoch마다 train_accuracy, Test_accuracy 값을 저장한다.\n",
        "  TrainAccuracy = accuracy(model, trainloader)*100\n",
        "  TrainAccuracyList.append(TrainAccuracy)\n",
        "\n",
        "  model.eval()  # 모델을 평가 모드로 설정\n",
        "\n",
        "  with torch.no_grad():\n",
        "    TestAccuracy = accuracy(model, testloader) * 100\n",
        "  TestAccuracyList.append(TestAccuracy)\n",
        "\n",
        "\n",
        "  print(f\"Epoch {epoch:3d} | Loss: {total_loss} | Train_accuracy: {TrainAccuracy} | Test_accuracy: {TestAccuracy}\")\n",
        "\n",
        "plot_acc(TrainAccuracyList, TestAccuracyList)\n"
      ],
      "metadata": {
        "colab": {
          "base_uri": "https://localhost:8080/",
          "height": 1000
        },
        "id": "TryX1hewvNiB",
        "outputId": "a67ad065-b553-4b35-89ba-83bd75dec68b"
      },
      "execution_count": null,
      "outputs": [
        {
          "output_type": "stream",
          "name": "stdout",
          "text": [
            "Epoch   0 | Loss: 70.58775389194489 | Train_accuracy: 91.485 | Test_accuracy: 91.75\n",
            "Epoch   1 | Loss: 70.48100443184376 | Train_accuracy: 91.5 | Test_accuracy: 91.77\n",
            "Epoch   2 | Loss: 70.28628793358803 | Train_accuracy: 91.54166666666667 | Test_accuracy: 91.73\n",
            "Epoch   3 | Loss: 70.15442226827145 | Train_accuracy: 91.55 | Test_accuracy: 91.79\n",
            "Epoch   4 | Loss: 69.90778413414955 | Train_accuracy: 91.58333333333334 | Test_accuracy: 91.77\n",
            "Epoch   5 | Loss: 69.86167846620083 | Train_accuracy: 91.57 | Test_accuracy: 91.82000000000001\n",
            "Epoch   6 | Loss: 69.65947817265987 | Train_accuracy: 91.58500000000001 | Test_accuracy: 91.81\n",
            "Epoch   7 | Loss: 69.5053925216198 | Train_accuracy: 91.58666666666667 | Test_accuracy: 91.8\n",
            "Epoch   8 | Loss: 69.32885190844536 | Train_accuracy: 91.63833333333334 | Test_accuracy: 91.89\n",
            "Epoch   9 | Loss: 69.18923762440681 | Train_accuracy: 91.64999999999999 | Test_accuracy: 91.88\n",
            "Epoch  10 | Loss: 69.1070050150156 | Train_accuracy: 91.68333333333332 | Test_accuracy: 91.94\n",
            "Epoch  11 | Loss: 68.80780757963657 | Train_accuracy: 91.685 | Test_accuracy: 91.92\n",
            "Epoch  12 | Loss: 68.66542555391788 | Train_accuracy: 91.705 | Test_accuracy: 91.89\n",
            "Epoch  13 | Loss: 68.56634825468063 | Train_accuracy: 91.73833333333333 | Test_accuracy: 91.96\n",
            "Epoch  14 | Loss: 68.39855442941189 | Train_accuracy: 91.76333333333334 | Test_accuracy: 91.95\n",
            "Epoch  15 | Loss: 68.20608524978161 | Train_accuracy: 91.77 | Test_accuracy: 91.93\n",
            "Epoch  16 | Loss: 68.07320275902748 | Train_accuracy: 91.79 | Test_accuracy: 91.93\n",
            "Epoch  17 | Loss: 68.07864035665989 | Train_accuracy: 91.81 | Test_accuracy: 92.0\n",
            "Epoch  18 | Loss: 67.75883460044861 | Train_accuracy: 91.84833333333333 | Test_accuracy: 92.01\n",
            "Epoch  19 | Loss: 67.58373241126537 | Train_accuracy: 91.86166666666666 | Test_accuracy: 92.02\n",
            "Epoch  20 | Loss: 67.50406570732594 | Train_accuracy: 91.86999999999999 | Test_accuracy: 92.02\n",
            "Epoch  21 | Loss: 67.33201530575752 | Train_accuracy: 91.89500000000001 | Test_accuracy: 92.01\n",
            "Epoch  22 | Loss: 67.18025489151478 | Train_accuracy: 91.91 | Test_accuracy: 92.06\n",
            "Epoch  23 | Loss: 67.1556415706873 | Train_accuracy: 91.94666666666666 | Test_accuracy: 92.06\n",
            "Epoch  24 | Loss: 66.97052925825119 | Train_accuracy: 91.97166666666666 | Test_accuracy: 92.04\n",
            "Epoch  25 | Loss: 66.88642391562462 | Train_accuracy: 91.96166666666666 | Test_accuracy: 92.12\n",
            "Epoch  26 | Loss: 66.77610950171947 | Train_accuracy: 92.00333333333333 | Test_accuracy: 92.08\n",
            "Epoch  27 | Loss: 66.49561485648155 | Train_accuracy: 92.00500000000001 | Test_accuracy: 92.17\n",
            "Epoch  28 | Loss: 66.3796544522047 | Train_accuracy: 92.05333333333333 | Test_accuracy: 92.16\n",
            "Epoch  29 | Loss: 66.2565740942955 | Train_accuracy: 92.07 | Test_accuracy: 92.13\n",
            "Epoch  30 | Loss: 66.0926456451416 | Train_accuracy: 92.06 | Test_accuracy: 92.19000000000001\n",
            "Epoch  31 | Loss: 65.93979816138744 | Train_accuracy: 92.095 | Test_accuracy: 92.23\n",
            "Epoch  32 | Loss: 65.89016078412533 | Train_accuracy: 92.08833333333334 | Test_accuracy: 92.22\n",
            "Epoch  33 | Loss: 65.68489426374435 | Train_accuracy: 92.11833333333334 | Test_accuracy: 92.24\n",
            "Epoch  34 | Loss: 65.57775408029556 | Train_accuracy: 92.145 | Test_accuracy: 92.24\n",
            "Epoch  35 | Loss: 65.46860930323601 | Train_accuracy: 92.16166666666666 | Test_accuracy: 92.25999999999999\n",
            "Epoch  36 | Loss: 65.32418003678322 | Train_accuracy: 92.175 | Test_accuracy: 92.29\n",
            "Epoch  37 | Loss: 65.19836640357971 | Train_accuracy: 92.19833333333334 | Test_accuracy: 92.31\n",
            "Epoch  38 | Loss: 64.99485957622528 | Train_accuracy: 92.205 | Test_accuracy: 92.33\n",
            "Epoch  39 | Loss: 64.92820185422897 | Train_accuracy: 92.22166666666666 | Test_accuracy: 92.32000000000001\n",
            "Epoch  40 | Loss: 64.68618296086788 | Train_accuracy: 92.24166666666666 | Test_accuracy: 92.39\n",
            "Epoch  41 | Loss: 64.64895355701447 | Train_accuracy: 92.23333333333333 | Test_accuracy: 92.41\n",
            "Epoch  42 | Loss: 64.53606550395489 | Train_accuracy: 92.26166666666667 | Test_accuracy: 92.4\n",
            "Epoch  43 | Loss: 64.3405846953392 | Train_accuracy: 92.25833333333333 | Test_accuracy: 92.4\n",
            "Epoch  44 | Loss: 64.27335727214813 | Train_accuracy: 92.28666666666666 | Test_accuracy: 92.41\n",
            "Epoch  45 | Loss: 64.14475744962692 | Train_accuracy: 92.33 | Test_accuracy: 92.41\n",
            "Epoch  46 | Loss: 63.96442711353302 | Train_accuracy: 92.32666666666667 | Test_accuracy: 92.44\n",
            "Epoch  47 | Loss: 63.8687312155962 | Train_accuracy: 92.325 | Test_accuracy: 92.47\n",
            "Epoch  48 | Loss: 63.74794568121433 | Train_accuracy: 92.345 | Test_accuracy: 92.47\n",
            "Epoch  49 | Loss: 63.70367842912674 | Train_accuracy: 92.35833333333333 | Test_accuracy: 92.56\n",
            "Epoch  50 | Loss: 63.53899219632149 | Train_accuracy: 92.37166666666667 | Test_accuracy: 92.52\n",
            "Epoch  51 | Loss: 63.39447341859341 | Train_accuracy: 92.39333333333335 | Test_accuracy: 92.53\n",
            "Epoch  52 | Loss: 63.2482862919569 | Train_accuracy: 92.39833333333334 | Test_accuracy: 92.53\n",
            "Epoch  53 | Loss: 63.12199990451336 | Train_accuracy: 92.42166666666667 | Test_accuracy: 92.62\n",
            "Epoch  54 | Loss: 63.015258744359016 | Train_accuracy: 92.46166666666666 | Test_accuracy: 92.61\n",
            "Epoch  55 | Loss: 62.88026425242424 | Train_accuracy: 92.45333333333333 | Test_accuracy: 92.65\n",
            "Epoch  56 | Loss: 62.81453935801983 | Train_accuracy: 92.46666666666667 | Test_accuracy: 92.64\n",
            "Epoch  57 | Loss: 62.61087164282799 | Train_accuracy: 92.48166666666665 | Test_accuracy: 92.69\n",
            "Epoch  58 | Loss: 62.56172125041485 | Train_accuracy: 92.50166666666667 | Test_accuracy: 92.72\n",
            "Epoch  59 | Loss: 62.39065173268318 | Train_accuracy: 92.51833333333333 | Test_accuracy: 92.75\n",
            "Epoch  60 | Loss: 62.31349267065525 | Train_accuracy: 92.53666666666666 | Test_accuracy: 92.71000000000001\n",
            "Epoch  61 | Loss: 62.19830636680126 | Train_accuracy: 92.54833333333333 | Test_accuracy: 92.73\n",
            "Epoch  62 | Loss: 62.078216806054115 | Train_accuracy: 92.565 | Test_accuracy: 92.71000000000001\n",
            "Epoch  63 | Loss: 61.954614356160164 | Train_accuracy: 92.58666666666666 | Test_accuracy: 92.78999999999999\n",
            "Epoch  64 | Loss: 61.90424831211567 | Train_accuracy: 92.59333333333333 | Test_accuracy: 92.78999999999999\n",
            "Epoch  65 | Loss: 61.73157396912575 | Train_accuracy: 92.60000000000001 | Test_accuracy: 92.75\n",
            "Epoch  66 | Loss: 61.59082034230232 | Train_accuracy: 92.61333333333333 | Test_accuracy: 92.78\n",
            "Epoch  67 | Loss: 61.42920599877834 | Train_accuracy: 92.63 | Test_accuracy: 92.82000000000001\n",
            "Epoch  68 | Loss: 61.325050473213196 | Train_accuracy: 92.645 | Test_accuracy: 92.84\n",
            "Epoch  69 | Loss: 61.264401227235794 | Train_accuracy: 92.65666666666667 | Test_accuracy: 92.86\n",
            "Epoch  70 | Loss: 61.12567374110222 | Train_accuracy: 92.66333333333333 | Test_accuracy: 92.89\n",
            "Epoch  71 | Loss: 61.032726258039474 | Train_accuracy: 92.69500000000001 | Test_accuracy: 92.91\n",
            "Epoch  72 | Loss: 61.040837079286575 | Train_accuracy: 92.69500000000001 | Test_accuracy: 92.89\n",
            "Epoch  73 | Loss: 60.807416185736656 | Train_accuracy: 92.70166666666667 | Test_accuracy: 92.95\n",
            "Epoch  74 | Loss: 60.65071012079716 | Train_accuracy: 92.71333333333334 | Test_accuracy: 92.88\n",
            "Epoch  75 | Loss: 60.54391248524189 | Train_accuracy: 92.73166666666667 | Test_accuracy: 92.89\n",
            "Epoch  76 | Loss: 60.394977897405624 | Train_accuracy: 92.75166666666667 | Test_accuracy: 92.92\n",
            "Epoch  77 | Loss: 60.32927909493446 | Train_accuracy: 92.76666666666667 | Test_accuracy: 92.95\n",
            "Epoch  78 | Loss: 60.224208772182465 | Train_accuracy: 92.77166666666666 | Test_accuracy: 92.93\n",
            "Epoch  79 | Loss: 60.17997953295708 | Train_accuracy: 92.77 | Test_accuracy: 92.95\n",
            "Epoch  80 | Loss: 59.97505088150501 | Train_accuracy: 92.80833333333334 | Test_accuracy: 92.97999999999999\n",
            "Epoch  81 | Loss: 59.92158606648445 | Train_accuracy: 92.81333333333333 | Test_accuracy: 93.02\n",
            "Epoch  82 | Loss: 59.81458339095116 | Train_accuracy: 92.82833333333333 | Test_accuracy: 93.0\n",
            "Epoch  83 | Loss: 59.69471050798893 | Train_accuracy: 92.84666666666666 | Test_accuracy: 93.02\n",
            "Epoch  84 | Loss: 59.52631805092096 | Train_accuracy: 92.86 | Test_accuracy: 93.05\n",
            "Epoch  85 | Loss: 59.51636900007725 | Train_accuracy: 92.86666666666666 | Test_accuracy: 93.06\n",
            "Epoch  86 | Loss: 59.34029541909695 | Train_accuracy: 92.875 | Test_accuracy: 93.03\n",
            "Epoch  87 | Loss: 59.343081310391426 | Train_accuracy: 92.89166666666667 | Test_accuracy: 93.06\n",
            "Epoch  88 | Loss: 59.18727821111679 | Train_accuracy: 92.90333333333334 | Test_accuracy: 93.10000000000001\n",
            "Epoch  89 | Loss: 59.06999358534813 | Train_accuracy: 92.93 | Test_accuracy: 93.08999999999999\n",
            "Epoch  90 | Loss: 58.94363974034786 | Train_accuracy: 92.94833333333334 | Test_accuracy: 93.14\n",
            "Epoch  91 | Loss: 58.90373709797859 | Train_accuracy: 92.93833333333333 | Test_accuracy: 93.14\n",
            "Epoch  92 | Loss: 58.72809536755085 | Train_accuracy: 92.94833333333334 | Test_accuracy: 93.16\n",
            "Epoch  93 | Loss: 58.66778822243214 | Train_accuracy: 92.97999999999999 | Test_accuracy: 93.13\n",
            "Epoch  94 | Loss: 58.50473529100418 | Train_accuracy: 92.98166666666667 | Test_accuracy: 93.16\n",
            "Epoch  95 | Loss: 58.43997724354267 | Train_accuracy: 92.99333333333333 | Test_accuracy: 93.2\n",
            "Epoch  96 | Loss: 58.2676025480032 | Train_accuracy: 92.99666666666667 | Test_accuracy: 93.17\n",
            "Epoch  97 | Loss: 58.22425091266632 | Train_accuracy: 93.01666666666667 | Test_accuracy: 93.22\n",
            "Epoch  98 | Loss: 58.08888753503561 | Train_accuracy: 93.04166666666667 | Test_accuracy: 93.24\n",
            "Epoch  99 | Loss: 58.03919354081154 | Train_accuracy: 93.04333333333334 | Test_accuracy: 93.22\n",
            "Epoch 100 | Loss: 57.85717833042145 | Train_accuracy: 93.05333333333333 | Test_accuracy: 93.23\n",
            "Epoch 101 | Loss: 57.761076867580414 | Train_accuracy: 93.07 | Test_accuracy: 93.26\n",
            "Epoch 102 | Loss: 57.7603999376297 | Train_accuracy: 93.085 | Test_accuracy: 93.22\n",
            "Epoch 103 | Loss: 57.63055311143398 | Train_accuracy: 93.11 | Test_accuracy: 93.23\n",
            "Epoch 104 | Loss: 57.53169272840023 | Train_accuracy: 93.09166666666667 | Test_accuracy: 93.24\n",
            "Epoch 105 | Loss: 57.47280302643776 | Train_accuracy: 93.12 | Test_accuracy: 93.27\n",
            "Epoch 106 | Loss: 57.287372425198555 | Train_accuracy: 93.12666666666667 | Test_accuracy: 93.26\n",
            "Epoch 107 | Loss: 57.18587527424097 | Train_accuracy: 93.13666666666667 | Test_accuracy: 93.30000000000001\n",
            "Epoch 108 | Loss: 57.177154541015625 | Train_accuracy: 93.16666666666666 | Test_accuracy: 93.30000000000001\n",
            "Epoch 109 | Loss: 56.92757213115692 | Train_accuracy: 93.15666666666667 | Test_accuracy: 93.31\n",
            "Epoch 110 | Loss: 56.9016582518816 | Train_accuracy: 93.16166666666666 | Test_accuracy: 93.34\n",
            "Epoch 111 | Loss: 56.84530980885029 | Train_accuracy: 93.18666666666667 | Test_accuracy: 93.34\n",
            "Epoch 112 | Loss: 56.780238926410675 | Train_accuracy: 93.18833333333333 | Test_accuracy: 93.33\n",
            "Epoch 113 | Loss: 56.67094501852989 | Train_accuracy: 93.21833333333333 | Test_accuracy: 93.37\n",
            "Epoch 114 | Loss: 56.50734290480614 | Train_accuracy: 93.22166666666666 | Test_accuracy: 93.37\n",
            "Epoch 115 | Loss: 56.41126027703285 | Train_accuracy: 93.24333333333334 | Test_accuracy: 93.35\n",
            "Epoch 116 | Loss: 56.39409390091896 | Train_accuracy: 93.25666666666666 | Test_accuracy: 93.33\n",
            "Epoch 117 | Loss: 56.27925622463226 | Train_accuracy: 93.265 | Test_accuracy: 93.37\n",
            "Epoch 118 | Loss: 56.16895970702171 | Train_accuracy: 93.28833333333333 | Test_accuracy: 93.39\n",
            "Epoch 119 | Loss: 56.079563334584236 | Train_accuracy: 93.29166666666666 | Test_accuracy: 93.4\n",
            "Epoch 120 | Loss: 55.91696745157242 | Train_accuracy: 93.30333333333334 | Test_accuracy: 93.43\n",
            "Epoch 121 | Loss: 55.882913157343864 | Train_accuracy: 93.315 | Test_accuracy: 93.44\n",
            "Epoch 122 | Loss: 55.7559399753809 | Train_accuracy: 93.33 | Test_accuracy: 93.42\n",
            "Epoch 123 | Loss: 55.60944063961506 | Train_accuracy: 93.34166666666667 | Test_accuracy: 93.44\n",
            "Epoch 124 | Loss: 55.537193566560745 | Train_accuracy: 93.34166666666667 | Test_accuracy: 93.5\n",
            "Epoch 125 | Loss: 55.450474351644516 | Train_accuracy: 93.37166666666667 | Test_accuracy: 93.49\n",
            "Epoch 126 | Loss: 55.36371095478535 | Train_accuracy: 93.37666666666667 | Test_accuracy: 93.51\n",
            "Epoch 127 | Loss: 55.28234788775444 | Train_accuracy: 93.38499999999999 | Test_accuracy: 93.49\n",
            "Epoch 128 | Loss: 55.23840783536434 | Train_accuracy: 93.40166666666667 | Test_accuracy: 93.53\n",
            "Epoch 129 | Loss: 55.071696147322655 | Train_accuracy: 93.41000000000001 | Test_accuracy: 93.52000000000001\n",
            "Epoch 130 | Loss: 54.9562594294548 | Train_accuracy: 93.42833333333334 | Test_accuracy: 93.51\n",
            "Epoch 131 | Loss: 54.90887740254402 | Train_accuracy: 93.445 | Test_accuracy: 93.58999999999999\n",
            "Epoch 132 | Loss: 54.83498030900955 | Train_accuracy: 93.44833333333334 | Test_accuracy: 93.58\n",
            "Epoch 133 | Loss: 54.6928671002388 | Train_accuracy: 93.465 | Test_accuracy: 93.56\n",
            "Epoch 134 | Loss: 54.70494173467159 | Train_accuracy: 93.47333333333333 | Test_accuracy: 93.56\n",
            "Epoch 135 | Loss: 54.50530429929495 | Train_accuracy: 93.48833333333333 | Test_accuracy: 93.60000000000001\n",
            "Epoch 136 | Loss: 54.377854607999325 | Train_accuracy: 93.5 | Test_accuracy: 93.57\n",
            "Epoch 137 | Loss: 54.31150381267071 | Train_accuracy: 93.50833333333334 | Test_accuracy: 93.61\n",
            "Epoch 138 | Loss: 54.27817593514919 | Train_accuracy: 93.53333333333333 | Test_accuracy: 93.61\n",
            "Epoch 139 | Loss: 54.17701634019613 | Train_accuracy: 93.53333333333333 | Test_accuracy: 93.61\n",
            "Epoch 140 | Loss: 54.08697006106377 | Train_accuracy: 93.53833333333334 | Test_accuracy: 93.61\n",
            "Epoch 141 | Loss: 53.99213959276676 | Train_accuracy: 93.565 | Test_accuracy: 93.63\n",
            "Epoch 142 | Loss: 53.865867257118225 | Train_accuracy: 93.58 | Test_accuracy: 93.65\n",
            "Epoch 143 | Loss: 53.82445089519024 | Train_accuracy: 93.575 | Test_accuracy: 93.67999999999999\n",
            "Epoch 144 | Loss: 53.70756867527962 | Train_accuracy: 93.58666666666666 | Test_accuracy: 93.65\n",
            "Epoch 145 | Loss: 53.69869863986969 | Train_accuracy: 93.60333333333334 | Test_accuracy: 93.67999999999999\n",
            "Epoch 146 | Loss: 53.57740794122219 | Train_accuracy: 93.63166666666667 | Test_accuracy: 93.66\n",
            "Epoch 147 | Loss: 53.448742017149925 | Train_accuracy: 93.64333333333333 | Test_accuracy: 93.67\n",
            "Epoch 148 | Loss: 53.31902007013559 | Train_accuracy: 93.645 | Test_accuracy: 93.71000000000001\n",
            "Epoch 149 | Loss: 53.29748532921076 | Train_accuracy: 93.645 | Test_accuracy: 93.76\n",
            "Epoch 150 | Loss: 53.199888698756695 | Train_accuracy: 93.66333333333333 | Test_accuracy: 93.72\n",
            "Epoch 151 | Loss: 53.187452644109726 | Train_accuracy: 93.67666666666666 | Test_accuracy: 93.7\n",
            "Epoch 152 | Loss: 53.0812159255147 | Train_accuracy: 93.69333333333333 | Test_accuracy: 93.77\n",
            "Epoch 153 | Loss: 52.94086320698261 | Train_accuracy: 93.70333333333333 | Test_accuracy: 93.78\n",
            "Epoch 154 | Loss: 52.818745501339436 | Train_accuracy: 93.70333333333333 | Test_accuracy: 93.76\n",
            "Epoch 155 | Loss: 52.76075115799904 | Train_accuracy: 93.71833333333333 | Test_accuracy: 93.76\n",
            "Epoch 156 | Loss: 52.7132882848382 | Train_accuracy: 93.71833333333333 | Test_accuracy: 93.77\n",
            "Epoch 157 | Loss: 52.525314919650555 | Train_accuracy: 93.745 | Test_accuracy: 93.78\n",
            "Epoch 158 | Loss: 52.442438788712025 | Train_accuracy: 93.74333333333334 | Test_accuracy: 93.76\n",
            "Epoch 159 | Loss: 52.35886139422655 | Train_accuracy: 93.76666666666667 | Test_accuracy: 93.84\n",
            "Epoch 160 | Loss: 52.318975672125816 | Train_accuracy: 93.77499999999999 | Test_accuracy: 93.81\n",
            "Epoch 161 | Loss: 52.19493581354618 | Train_accuracy: 93.78833333333333 | Test_accuracy: 93.82000000000001\n",
            "Epoch 162 | Loss: 52.168515771627426 | Train_accuracy: 93.79166666666666 | Test_accuracy: 93.84\n",
            "Epoch 163 | Loss: 52.02381460368633 | Train_accuracy: 93.81166666666667 | Test_accuracy: 93.8\n",
            "Epoch 164 | Loss: 51.99092525988817 | Train_accuracy: 93.80666666666667 | Test_accuracy: 93.82000000000001\n",
            "Epoch 165 | Loss: 52.02022601664066 | Train_accuracy: 93.82666666666667 | Test_accuracy: 93.82000000000001\n",
            "Epoch 166 | Loss: 51.86148735880852 | Train_accuracy: 93.83666666666667 | Test_accuracy: 93.84\n",
            "Epoch 167 | Loss: 51.74200148880482 | Train_accuracy: 93.83833333333334 | Test_accuracy: 93.87\n",
            "Epoch 168 | Loss: 51.640960082411766 | Train_accuracy: 93.83666666666667 | Test_accuracy: 93.91000000000001\n",
            "Epoch 169 | Loss: 51.57991050183773 | Train_accuracy: 93.855 | Test_accuracy: 93.86\n",
            "Epoch 170 | Loss: 51.48811540007591 | Train_accuracy: 93.85666666666667 | Test_accuracy: 93.88\n",
            "Epoch 171 | Loss: 51.4255743175745 | Train_accuracy: 93.86833333333333 | Test_accuracy: 93.87\n",
            "Epoch 172 | Loss: 51.35675624758005 | Train_accuracy: 93.88666666666666 | Test_accuracy: 93.89999999999999\n",
            "Epoch 173 | Loss: 51.29655151814222 | Train_accuracy: 93.90833333333333 | Test_accuracy: 93.89999999999999\n",
            "Epoch 174 | Loss: 51.120748698711395 | Train_accuracy: 93.905 | Test_accuracy: 93.96\n",
            "Epoch 175 | Loss: 51.08751080185175 | Train_accuracy: 93.91166666666668 | Test_accuracy: 93.92\n",
            "Epoch 176 | Loss: 51.07555502653122 | Train_accuracy: 93.93 | Test_accuracy: 93.97999999999999\n",
            "Epoch 177 | Loss: 50.87975365668535 | Train_accuracy: 93.92833333333334 | Test_accuracy: 93.94\n",
            "Epoch 178 | Loss: 50.78266408294439 | Train_accuracy: 93.93833333333333 | Test_accuracy: 93.95\n",
            "Epoch 179 | Loss: 50.69521138072014 | Train_accuracy: 93.94500000000001 | Test_accuracy: 93.99\n",
            "Epoch 180 | Loss: 50.62232404947281 | Train_accuracy: 93.97166666666666 | Test_accuracy: 93.97\n",
            "Epoch 181 | Loss: 50.641494162380695 | Train_accuracy: 93.96666666666667 | Test_accuracy: 94.02000000000001\n",
            "Epoch 182 | Loss: 50.54322589188814 | Train_accuracy: 93.99499999999999 | Test_accuracy: 94.02000000000001\n",
            "Epoch 183 | Loss: 50.38762951642275 | Train_accuracy: 93.985 | Test_accuracy: 94.0\n",
            "Epoch 184 | Loss: 50.341372072696686 | Train_accuracy: 94.00666666666667 | Test_accuracy: 94.03\n",
            "Epoch 185 | Loss: 50.22529444843531 | Train_accuracy: 94.00333333333334 | Test_accuracy: 94.04\n",
            "Epoch 186 | Loss: 50.213587284088135 | Train_accuracy: 94.01 | Test_accuracy: 94.02000000000001\n",
            "Epoch 187 | Loss: 50.10957355797291 | Train_accuracy: 94.015 | Test_accuracy: 94.0\n",
            "Epoch 188 | Loss: 50.061023741960526 | Train_accuracy: 94.01833333333333 | Test_accuracy: 94.01\n",
            "Epoch 189 | Loss: 49.91634524613619 | Train_accuracy: 94.03833333333334 | Test_accuracy: 94.04\n",
            "Epoch 190 | Loss: 49.895727068185806 | Train_accuracy: 94.045 | Test_accuracy: 94.04\n",
            "Epoch 191 | Loss: 49.772216111421585 | Train_accuracy: 94.05166666666666 | Test_accuracy: 94.06\n",
            "Epoch 192 | Loss: 49.74735975265503 | Train_accuracy: 94.05166666666666 | Test_accuracy: 94.05\n",
            "Epoch 193 | Loss: 49.68064711242914 | Train_accuracy: 94.08166666666666 | Test_accuracy: 94.04\n",
            "Epoch 194 | Loss: 49.6291074603796 | Train_accuracy: 94.08833333333332 | Test_accuracy: 94.05\n",
            "Epoch 195 | Loss: 49.45572239905596 | Train_accuracy: 94.11 | Test_accuracy: 94.06\n",
            "Epoch 196 | Loss: 49.447274789214134 | Train_accuracy: 94.10166666666666 | Test_accuracy: 94.05\n",
            "Epoch 197 | Loss: 49.28787576407194 | Train_accuracy: 94.12333333333333 | Test_accuracy: 94.05\n",
            "Epoch 198 | Loss: 49.26629405468702 | Train_accuracy: 94.12 | Test_accuracy: 94.08\n",
            "Epoch 199 | Loss: 49.12572908401489 | Train_accuracy: 94.13833333333334 | Test_accuracy: 94.11\n",
            "Epoch 200 | Loss: 49.041290409862995 | Train_accuracy: 94.14833333333334 | Test_accuracy: 94.08999999999999\n",
            "Epoch 201 | Loss: 49.01284495741129 | Train_accuracy: 94.15833333333333 | Test_accuracy: 94.08\n",
            "Epoch 202 | Loss: 48.91622791439295 | Train_accuracy: 94.16333333333333 | Test_accuracy: 94.08999999999999\n",
            "Epoch 203 | Loss: 48.87889786064625 | Train_accuracy: 94.16666666666667 | Test_accuracy: 94.11\n",
            "Epoch 204 | Loss: 48.742794655263424 | Train_accuracy: 94.16833333333334 | Test_accuracy: 94.12\n",
            "Epoch 205 | Loss: 48.64286586642265 | Train_accuracy: 94.19666666666666 | Test_accuracy: 94.15\n",
            "Epoch 206 | Loss: 48.628717720508575 | Train_accuracy: 94.20833333333334 | Test_accuracy: 94.15\n",
            "Epoch 207 | Loss: 48.494432494044304 | Train_accuracy: 94.19666666666666 | Test_accuracy: 94.19\n",
            "Epoch 208 | Loss: 48.51750864088535 | Train_accuracy: 94.23333333333333 | Test_accuracy: 94.15\n",
            "Epoch 209 | Loss: 48.387952253222466 | Train_accuracy: 94.22666666666667 | Test_accuracy: 94.17\n",
            "Epoch 210 | Loss: 48.28473438322544 | Train_accuracy: 94.23166666666667 | Test_accuracy: 94.19\n",
            "Epoch 211 | Loss: 48.282182298600674 | Train_accuracy: 94.24833333333333 | Test_accuracy: 94.19\n",
            "Epoch 212 | Loss: 48.21040719002485 | Train_accuracy: 94.25166666666667 | Test_accuracy: 94.22\n",
            "Epoch 213 | Loss: 48.130042150616646 | Train_accuracy: 94.26666666666667 | Test_accuracy: 94.23\n",
            "Epoch 214 | Loss: 48.02336570620537 | Train_accuracy: 94.27666666666667 | Test_accuracy: 94.17999999999999\n",
            "Epoch 215 | Loss: 47.945083789527416 | Train_accuracy: 94.29166666666666 | Test_accuracy: 94.19\n",
            "Epoch 216 | Loss: 47.80983439832926 | Train_accuracy: 94.29833333333333 | Test_accuracy: 94.22\n",
            "Epoch 217 | Loss: 47.757110841572285 | Train_accuracy: 94.31666666666668 | Test_accuracy: 94.24\n",
            "Epoch 218 | Loss: 47.71856611967087 | Train_accuracy: 94.325 | Test_accuracy: 94.22\n",
            "Epoch 219 | Loss: 47.57127235084772 | Train_accuracy: 94.33166666666666 | Test_accuracy: 94.21000000000001\n",
            "Epoch 220 | Loss: 47.547986663877964 | Train_accuracy: 94.33 | Test_accuracy: 94.28\n",
            "Epoch 221 | Loss: 47.47083715349436 | Train_accuracy: 94.35 | Test_accuracy: 94.27\n",
            "Epoch 222 | Loss: 47.437597297132015 | Train_accuracy: 94.35666666666667 | Test_accuracy: 94.28\n",
            "Epoch 223 | Loss: 47.34880867600441 | Train_accuracy: 94.35833333333333 | Test_accuracy: 94.27\n",
            "Epoch 224 | Loss: 47.24972277134657 | Train_accuracy: 94.39166666666667 | Test_accuracy: 94.27\n",
            "Epoch 225 | Loss: 47.16453968733549 | Train_accuracy: 94.37666666666667 | Test_accuracy: 94.3\n",
            "Epoch 226 | Loss: 47.15135436505079 | Train_accuracy: 94.38333333333333 | Test_accuracy: 94.28999999999999\n",
            "Epoch 227 | Loss: 47.08110323548317 | Train_accuracy: 94.39666666666666 | Test_accuracy: 94.33\n",
            "Epoch 228 | Loss: 47.03032702207565 | Train_accuracy: 94.415 | Test_accuracy: 94.33\n",
            "Epoch 229 | Loss: 46.87694200873375 | Train_accuracy: 94.41333333333334 | Test_accuracy: 94.31\n",
            "Epoch 230 | Loss: 46.795480236411095 | Train_accuracy: 94.41166666666668 | Test_accuracy: 94.33\n",
            "Epoch 231 | Loss: 46.780700482428074 | Train_accuracy: 94.42 | Test_accuracy: 94.34\n",
            "Epoch 232 | Loss: 46.69281171262264 | Train_accuracy: 94.42833333333334 | Test_accuracy: 94.35\n",
            "Epoch 233 | Loss: 46.57893057912588 | Train_accuracy: 94.44500000000001 | Test_accuracy: 94.35\n",
            "Epoch 234 | Loss: 46.51688244193792 | Train_accuracy: 94.45333333333333 | Test_accuracy: 94.36\n",
            "Epoch 235 | Loss: 46.51151066273451 | Train_accuracy: 94.475 | Test_accuracy: 94.38\n",
            "Epoch 236 | Loss: 46.408110693097115 | Train_accuracy: 94.475 | Test_accuracy: 94.36\n",
            "Epoch 237 | Loss: 46.3295384272933 | Train_accuracy: 94.49 | Test_accuracy: 94.36\n",
            "Epoch 238 | Loss: 46.22169925272465 | Train_accuracy: 94.5 | Test_accuracy: 94.42\n",
            "Epoch 239 | Loss: 46.28951957076788 | Train_accuracy: 94.51 | Test_accuracy: 94.46\n",
            "Epoch 240 | Loss: 46.217547722160816 | Train_accuracy: 94.52000000000001 | Test_accuracy: 94.38\n",
            "Epoch 241 | Loss: 46.104866705834866 | Train_accuracy: 94.53166666666667 | Test_accuracy: 94.43\n",
            "Epoch 242 | Loss: 46.05103810876608 | Train_accuracy: 94.53 | Test_accuracy: 94.43\n",
            "Epoch 243 | Loss: 45.88047420233488 | Train_accuracy: 94.54333333333334 | Test_accuracy: 94.42\n",
            "Epoch 244 | Loss: 45.84183605015278 | Train_accuracy: 94.55166666666666 | Test_accuracy: 94.43\n",
            "Epoch 245 | Loss: 45.76498105376959 | Train_accuracy: 94.56 | Test_accuracy: 94.47\n",
            "Epoch 246 | Loss: 45.632837787270546 | Train_accuracy: 94.58833333333332 | Test_accuracy: 94.46\n",
            "Epoch 247 | Loss: 45.66529906541109 | Train_accuracy: 94.57833333333333 | Test_accuracy: 94.48\n",
            "Epoch 248 | Loss: 45.54320567846298 | Train_accuracy: 94.59 | Test_accuracy: 94.51\n",
            "Epoch 249 | Loss: 45.50935260951519 | Train_accuracy: 94.59 | Test_accuracy: 94.5\n",
            "Epoch 250 | Loss: 45.37953757494688 | Train_accuracy: 94.60499999999999 | Test_accuracy: 94.48\n",
            "Epoch 251 | Loss: 45.3972397968173 | Train_accuracy: 94.62 | Test_accuracy: 94.47\n",
            "Epoch 252 | Loss: 45.312560729682446 | Train_accuracy: 94.61833333333334 | Test_accuracy: 94.51\n",
            "Epoch 253 | Loss: 45.230927370488644 | Train_accuracy: 94.63666666666667 | Test_accuracy: 94.49\n",
            "Epoch 254 | Loss: 45.23447050899267 | Train_accuracy: 94.65 | Test_accuracy: 94.49\n",
            "Epoch 255 | Loss: 45.05440949648619 | Train_accuracy: 94.655 | Test_accuracy: 94.51\n",
            "Epoch 256 | Loss: 45.07753485441208 | Train_accuracy: 94.655 | Test_accuracy: 94.51\n",
            "Epoch 257 | Loss: 44.94206698983908 | Train_accuracy: 94.66666666666667 | Test_accuracy: 94.52000000000001\n",
            "Epoch 258 | Loss: 44.992813631892204 | Train_accuracy: 94.68333333333334 | Test_accuracy: 94.54\n",
            "Epoch 259 | Loss: 44.79134691506624 | Train_accuracy: 94.67833333333333 | Test_accuracy: 94.48\n",
            "Epoch 260 | Loss: 44.736323058605194 | Train_accuracy: 94.695 | Test_accuracy: 94.55\n",
            "Epoch 261 | Loss: 44.72683183848858 | Train_accuracy: 94.69333333333333 | Test_accuracy: 94.59\n",
            "Epoch 262 | Loss: 44.666440553963184 | Train_accuracy: 94.715 | Test_accuracy: 94.56\n",
            "Epoch 263 | Loss: 44.50478145480156 | Train_accuracy: 94.735 | Test_accuracy: 94.55\n",
            "Epoch 264 | Loss: 44.516355223953724 | Train_accuracy: 94.73333333333333 | Test_accuracy: 94.54\n",
            "Epoch 265 | Loss: 44.35361559689045 | Train_accuracy: 94.745 | Test_accuracy: 94.54\n",
            "Epoch 266 | Loss: 44.282330736517906 | Train_accuracy: 94.76166666666667 | Test_accuracy: 94.56\n",
            "Epoch 267 | Loss: 44.294492579996586 | Train_accuracy: 94.75666666666666 | Test_accuracy: 94.57\n",
            "Epoch 268 | Loss: 44.20796126127243 | Train_accuracy: 94.76666666666667 | Test_accuracy: 94.58\n",
            "Epoch 269 | Loss: 44.075347155332565 | Train_accuracy: 94.75833333333334 | Test_accuracy: 94.61\n",
            "Epoch 270 | Loss: 44.049720481038094 | Train_accuracy: 94.77833333333334 | Test_accuracy: 94.6\n",
            "Epoch 271 | Loss: 43.95274046063423 | Train_accuracy: 94.785 | Test_accuracy: 94.61\n",
            "Epoch 272 | Loss: 43.879424050450325 | Train_accuracy: 94.80333333333333 | Test_accuracy: 94.61\n",
            "Epoch 273 | Loss: 43.91284318268299 | Train_accuracy: 94.795 | Test_accuracy: 94.63000000000001\n",
            "Epoch 274 | Loss: 43.75043326616287 | Train_accuracy: 94.795 | Test_accuracy: 94.63000000000001\n",
            "Epoch 275 | Loss: 43.8290411233902 | Train_accuracy: 94.8 | Test_accuracy: 94.66\n",
            "Epoch 276 | Loss: 43.724544033408165 | Train_accuracy: 94.82833333333333 | Test_accuracy: 94.61\n",
            "Epoch 277 | Loss: 43.57110911607742 | Train_accuracy: 94.82666666666667 | Test_accuracy: 94.67\n",
            "Epoch 278 | Loss: 43.53803239762783 | Train_accuracy: 94.84833333333333 | Test_accuracy: 94.66\n",
            "Epoch 279 | Loss: 43.47541995346546 | Train_accuracy: 94.82833333333333 | Test_accuracy: 94.65\n",
            "Epoch 280 | Loss: 43.39756532013416 | Train_accuracy: 94.85833333333333 | Test_accuracy: 94.65\n",
            "Epoch 281 | Loss: 43.391405045986176 | Train_accuracy: 94.86833333333334 | Test_accuracy: 94.67\n",
            "Epoch 282 | Loss: 43.23633702844381 | Train_accuracy: 94.85 | Test_accuracy: 94.65\n",
            "Epoch 283 | Loss: 43.183293253183365 | Train_accuracy: 94.855 | Test_accuracy: 94.67999999999999\n",
            "Epoch 284 | Loss: 43.1380947008729 | Train_accuracy: 94.875 | Test_accuracy: 94.69\n",
            "Epoch 285 | Loss: 43.07024227082729 | Train_accuracy: 94.89166666666667 | Test_accuracy: 94.71000000000001\n",
            "Epoch 286 | Loss: 43.10852371156216 | Train_accuracy: 94.905 | Test_accuracy: 94.69\n",
            "Epoch 287 | Loss: 43.01851323246956 | Train_accuracy: 94.905 | Test_accuracy: 94.72\n",
            "Epoch 288 | Loss: 42.92849326133728 | Train_accuracy: 94.90333333333332 | Test_accuracy: 94.72\n",
            "Epoch 289 | Loss: 42.85564564913511 | Train_accuracy: 94.89166666666667 | Test_accuracy: 94.69\n",
            "Epoch 290 | Loss: 42.74158988147974 | Train_accuracy: 94.91000000000001 | Test_accuracy: 94.73\n",
            "Epoch 291 | Loss: 42.7164116948843 | Train_accuracy: 94.91000000000001 | Test_accuracy: 94.71000000000001\n",
            "Epoch 292 | Loss: 42.66226693242788 | Train_accuracy: 94.93166666666667 | Test_accuracy: 94.71000000000001\n",
            "Epoch 293 | Loss: 42.613107942044735 | Train_accuracy: 94.92 | Test_accuracy: 94.73\n",
            "Epoch 294 | Loss: 42.47265566885471 | Train_accuracy: 94.93 | Test_accuracy: 94.72\n",
            "Epoch 295 | Loss: 42.419859521090984 | Train_accuracy: 94.93833333333333 | Test_accuracy: 94.73\n",
            "Epoch 296 | Loss: 42.42510008811951 | Train_accuracy: 94.95166666666667 | Test_accuracy: 94.75\n",
            "Epoch 297 | Loss: 42.425030924379826 | Train_accuracy: 94.96833333333333 | Test_accuracy: 94.73\n",
            "Epoch 298 | Loss: 42.26117850095034 | Train_accuracy: 94.97666666666666 | Test_accuracy: 94.72\n",
            "Epoch 299 | Loss: 42.26779382675886 | Train_accuracy: 94.96833333333333 | Test_accuracy: 94.74000000000001\n"
          ]
        },
        {
          "output_type": "display_data",
          "data": {
            "text/plain": [
              "<Figure size 640x480 with 1 Axes>"
            ],
            "image/png": "[encoded data removed]"
          },
          "metadata": {}
        }
      ]
    },
    {
      "cell_type": "markdown",
      "source": [
        "출력 결과를 보면 잘 수렴하는 것을 볼 수 있습니다.\n",
        "이전 구현과 다른 점은 다음 두 가지입니다.\n",
        "- `for data in trainloader`를 통해 batch들을 iterate하면서 model을 학습합니다.\n",
        "- `inputs, labels = inputs.to('cuda'), labels.to('cuda')`를 통해 model의 입력으로 들어가는 tensor들을 GPU로 보냅니다.\n",
        "\n",
        "마지막으로 첫 번째 data에 대한 예측 결과를 살펴봅시다."
      ],
      "metadata": {
        "id": "YRDcptrqniX7"
      }
    },
    {
      "cell_type": "code",
      "source": [
        "idx = 0\n",
        "\n",
        "x = trainset[idx][0][None]  # (1, 1, 28, 28)\n",
        "x = x.to('cuda')\n",
        "\n",
        "print(model(x))\n",
        "print(trainset[idx][1])"
      ],
      "metadata": {
        "id": "Zct0ssSKwjt1",
        "colab": {
          "base_uri": "https://localhost:8080/"
        },
        "outputId": "bfbf4226-ad89-4060-da9d-b66ebd248a20"
      },
      "execution_count": null,
      "outputs": [
        {
          "output_type": "stream",
          "name": "stdout",
          "text": [
            "tensor([[ 0.5101, -3.1213,  1.8416,  6.4167, -8.3710,  8.7607, -4.6862, -0.0490,\n",
            "         -0.3771, -0.2585]], device='cuda:0', grad_fn=<AddmmBackward0>)\n",
            "5\n"
          ]
        }
      ]
    },
    {
      "cell_type": "markdown",
      "source": [
        "여기서 idx를 조정하여 다른 data에 대한 출력 결과도 볼 수 있습니다.\n",
        "예측 결과를 보시면 아직 성능이 그렇게 좋지 않은 것을 알 수 있습니다."
      ],
      "metadata": {
        "id": "qzgSOrMsoZ2z"
      }
    },
    {
      "cell_type": "code",
      "source": [],
      "metadata": {
        "id": "d6M4SpWQoML9"
      },
      "execution_count": null,
      "outputs": []
    }
  ]
}